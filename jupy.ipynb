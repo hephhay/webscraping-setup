{
 "cells": [
  {
   "cell_type": "code",
   "execution_count": 146,
   "metadata": {},
   "outputs": [
    {
     "name": "stderr",
     "output_type": "stream",
     "text": [
      "/tmp/ipykernel_23536/68414855.py:34: DeprecationWarning: executable_path has been deprecated, please pass in a Service object\n",
      "  driver = webdriver.Chrome(options=options, executable_path=path)\n"
     ]
    }
   ],
   "source": [
    "\"\"\"\n",
    "@author: ChewingGumKing_OJF\n",
    "\"\"\"\n",
    "import json\n",
    "import os\n",
    "import sys\n",
    "import time\n",
    "from dataclasses import dataclass\n",
    "from datetime import datetime\n",
    "#loads necessary libraries\n",
    "from typing import Union, Any, Tuple, Sequence, List\n",
    "import re\n",
    "from bs4 import BeautifulSoup as bs\n",
    "\n",
    "from selenium import webdriver\n",
    "from selenium.webdriver.common.action_chains import ActionChains\n",
    "from selenium.webdriver.common.by import By\n",
    "from selenium.webdriver.common.keys import Keys\n",
    "from selenium.webdriver.remote.webdriver import WebDriver\n",
    "from selenium.webdriver.support import expected_conditions as EC\n",
    "from selenium.webdriver.support.ui import WebDriverWait\n",
    "from selenium.common.exceptions import NoSuchElementException, StaleElementReferenceException\n",
    "import warnings\n",
    "import requests\n",
    "from GlobalVariable import *\n",
    "from GlobalFunctions import GlobalFunctions\n",
    "\n",
    "error: str = ''\n",
    "options = webdriver.ChromeOptions()\n",
    "\n",
    "#options.add_argument(\"--headless\")\n",
    "\n",
    "path = GlobalVariable.ChromeDriverPath\n",
    "driver = webdriver.Chrome(options=options, executable_path=path)\n",
    "\n",
    "def date_transformation(date: str) -> Tuple[str, str]:\n",
    "    match = re.search(r'(\\d{1,2})-(\\d{1,2})\\s*(\\w+)\\s*(\\d{4})', date)\n",
    "    if match:\n",
    "        change = lambda exact: datetime.strptime(exact, '%d %B %Y').strftime('%Y-%m-%d')\n",
    "        return tuple(map(lambda no: change(' '.join(match.group(no, *(3, 4)))), [1, 2]))\n",
    "\n",
    "#*******************************************************************************************************************\n",
    "import logging\n",
    "def creating_log(script_name: str):\n",
    "\n",
    "    log_folder_path = 'log_folder'\n",
    "\n",
    "    if os.path.exists(log_folder_path):\n",
    "        for files in os.listdir(log_folder_path):\n",
    "            if files == 'jupyter_run.log':\n",
    "                os.remove(os.path.join(os.getcwd(), log_folder_path, files))\n",
    "    else:\n",
    "        os.makedirs(log_folder_path)\n",
    "\n",
    "    log_path = os.path.join(os.getcwd(), log_folder_path, f'{script_name}.log')\n",
    "\n",
    "    logger = logging.getLogger(script_name)\n",
    "    logger.setLevel(logging.DEBUG)\n",
    "    log_handler = logging.FileHandler(log_path)\n",
    "    log_format = logging.Formatter(\n",
    "        '%(asctime)s -- %(name)s -- %(levelname)s -- %(message)s \\n\\n')\n",
    "    log_handler.setFormatter(log_format)\n",
    "    logger.addHandler(log_handler)\n",
    "    logger.info('Log reporting is instantiated.')\n",
    "\n",
    "    return logger\n",
    "\n",
    "\n",
    "logger = creating_log('jupyter_run')\n",
    "#*******************************************************************************************************************"
   ]
  },
  {
   "cell_type": "code",
   "execution_count": 147,
   "metadata": {},
   "outputs": [],
   "source": [
    "def split_names(text):\n",
    "    splitted = text.text.split('\\n')\n",
    "    if len(splitted) == 1:\n",
    "        splitted.append('')\n",
    "    return splitted\n",
    "\n",
    "class ScrapeEvent:\n",
    "    \"\"\" the codebase design uses a Class with it Methods as function scraping singular data(some more,\n",
    "        in the case of going inside the page just once). It returns the data to a it caller which is handled by a context manager.\n",
    "    \"\"\"\n",
    "\n",
    "    browser: WebDriver = driver\n",
    "    wait_5sec: WebDriverWait = WebDriverWait(browser, 5)\n",
    "    error_msg_from_class: str = ''\n",
    "\n",
    "    def __enter__(self):\n",
    "        \"Handles the contex manager.\"\n",
    "        return self\n",
    "\n",
    "    def __exit__(self, exc_type=None, exc_value=None, exc_tb=None):\n",
    "        self.browser.quit()\n",
    "\n",
    "    def get_link(self, link: str) -> None:\n",
    "        \"Hanles the teardown of the context manager.\"\n",
    "        self.browser.get(link)\n",
    "        time.sleep(1)\n",
    "        self.dispatch('#cookie_action_close_header').click()\n",
    "\n",
    "    def dispatch(self, locator:str, strategy:webdriver = By.CSS_SELECTOR):\n",
    "        \"API calls for Selenium webdriver.find_element\"\n",
    "        return self.browser.find_element(strategy, locator)\n",
    "\n",
    "    def dispatchList(self, locator:str, strategy: webdriver = By.CSS_SELECTOR):\n",
    "        \"API calls for Selenium webdriver.find_elements\"\n",
    "        return self.browser.find_elements(strategy, locator)\n",
    "\n",
    "    def get_done(self) -> Any:\n",
    "            \"Scrapes and return event venue \"\n",
    "            try:\n",
    "                speaker_list = list(map(split_names, self.dispatchList('.fusion-one-fourth p[style=\"text-align: center;\"]')))\n",
    "                speaker_list = speaker_list[1:]\n",
    "                if speaker_list == []:\n",
    "                    raise IndexError\n",
    "            except Exception as e:\n",
    "                try:\n",
    "                    speaker_list = list(map(split_names, self.dispatchList('.bklyn-team-member-info')))\n",
    "                except Exception as e:\n",
    "                    self.error_msg_from_class += '\\n' + str(e)\n",
    "                    logger.error(f'{self.get_events.__name__} Function failed', exc_info=True)\n",
    "                else:\n",
    "                    return list(map(lambda a: {'name':a[0], 'title': a[1]}, speaker_list))\n",
    "            else:\n",
    "                return list(map(lambda a: {'name':a[0], 'title': a[1]}, speaker_list))\n",
    "\n"
   ]
  },
  {
   "cell_type": "code",
   "execution_count": 148,
   "metadata": {},
   "outputs": [],
   "source": [
    "url = 'https://insightevents.se/batterytech/'"
   ]
  },
  {
   "cell_type": "markdown",
   "metadata": {},
   "source": []
  },
  {
   "cell_type": "markdown",
   "metadata": {},
   "source": []
  },
  {
   "cell_type": "code",
   "execution_count": 149,
   "metadata": {},
   "outputs": [
    {
     "name": "stdout",
     "output_type": "stream",
     "text": [
      "-----********************-----\n",
      "['', '', 'GOTHENBURG']\n",
      "-----********************-----\n",
      "DONE\n"
     ]
    }
   ],
   "source": [
    "with ScrapeEvent() as handler:\n",
    "    handler.browser.implicitly_wait(5)\n",
    "\n",
    "    try:\n",
    "        links = handler.get_link(url)\n",
    "    except Exception as e:\n",
    "        logger.error('Connection Error', exc_info=True)\n",
    "        error += str(e) \n",
    "        \n",
    "    try:\n",
    "        print('-----********************-----')\n",
    "        res = handler.get_done()\n",
    "        print(res)\n",
    "    except Exception as e:\n",
    "        logger.error('Function failed', exc_info=True)\n",
    "        error +=  str(e)\n",
    "\n",
    "    error += handler.error_msg_from_class\n",
    "\n",
    "\n",
    "print('-----********************-----')\n",
    "print('DONE')\n"
   ]
  },
  {
   "cell_type": "code",
   "execution_count": null,
   "metadata": {},
   "outputs": [],
   "source": []
  },
  {
   "cell_type": "code",
   "execution_count": null,
   "metadata": {},
   "outputs": [],
   "source": []
  },
  {
   "cell_type": "code",
   "execution_count": null,
   "metadata": {},
   "outputs": [],
   "source": []
  },
  {
   "cell_type": "code",
   "execution_count": null,
   "metadata": {},
   "outputs": [],
   "source": []
  },
  {
   "cell_type": "code",
   "execution_count": null,
   "metadata": {},
   "outputs": [],
   "source": []
  },
  {
   "cell_type": "code",
   "execution_count": null,
   "metadata": {},
   "outputs": [],
   "source": []
  },
  {
   "cell_type": "code",
   "execution_count": null,
   "metadata": {},
   "outputs": [],
   "source": []
  },
  {
   "cell_type": "code",
   "execution_count": null,
   "metadata": {},
   "outputs": [],
   "source": []
  },
  {
   "cell_type": "code",
   "execution_count": 150,
   "metadata": {},
   "outputs": [
    {
     "name": "stdout",
     "output_type": "stream",
     "text": [
      "['2022-11-22', '2022-11-23']\n"
     ]
    }
   ],
   "source": [
    "string ='22-23 november 2022'\n",
    "match = re.search(r'(\\d{1,2})-(\\d{1,2})\\s*(\\w+)\\s*(\\d{4})', string)\n",
    "if match:\n",
    "    change = lambda exact: datetime.strptime(exact, '%d %B %Y').strftime('%Y-%m-%d')\n",
    "    match_dat =map(lambda no: change(' '.join(match.group(no, *(3, 4)))), [1, 2])\n",
    "\n",
    "print(list(match_dat))\n"
   ]
  }
 ],
 "metadata": {
  "kernelspec": {
   "display_name": "env",
   "language": "python",
   "name": "env"
  },
  "language_info": {
   "codemirror_mode": {
    "name": "ipython",
    "version": 3
   },
   "file_extension": ".py",
   "mimetype": "text/x-python",
   "name": "python",
   "nbconvert_exporter": "python",
   "pygments_lexer": "ipython3",
   "version": "3.8.10"
  },
  "orig_nbformat": 4,
  "vscode": {
   "interpreter": {
    "hash": "f9f85f796d01129d0dd105a088854619f454435301f6ffec2fea96ecbd9be4ac"
   }
  }
 },
 "nbformat": 4,
 "nbformat_minor": 2
}
